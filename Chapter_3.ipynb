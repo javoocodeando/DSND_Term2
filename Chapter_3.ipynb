{
  "nbformat": 4,
  "nbformat_minor": 0,
  "metadata": {
    "colab": {
      "name": "Chapter 3.ipynb",
      "provenance": [],
      "authorship_tag": "ABX9TyNZOC24+KtjQOFETZWYcGWu",
      "include_colab_link": true
    },
    "kernelspec": {
      "name": "python3",
      "display_name": "Python 3"
    },
    "language_info": {
      "name": "python"
    },
    "accelerator": "GPU"
  },
  "cells": [
    {
      "cell_type": "markdown",
      "metadata": {
        "id": "view-in-github",
        "colab_type": "text"
      },
      "source": [
        "<a href=\"https://colab.research.google.com/github/javoocodeando/DSND_Term2/blob/master/Chapter_3.ipynb\" target=\"_parent\"><img src=\"https://colab.research.google.com/assets/colab-badge.svg\" alt=\"Open In Colab\"/></a>"
      ]
    },
    {
      "cell_type": "code",
      "metadata": {
        "id": "41Mom_ZEyOXp"
      },
      "source": [
        "%tensorflow_version 2.x"
      ],
      "execution_count": null,
      "outputs": []
    },
    {
      "cell_type": "code",
      "metadata": {
        "colab": {
          "base_uri": "https://localhost:8080/"
        },
        "id": "uIdtxbz6y58w",
        "outputId": "c05701a8-31ea-41c0-d8df-ddc93d707922"
      },
      "source": [
        "import tensorflow as tf\n",
        "print(\"GPU Available: \", tf.test.is_gpu_available())"
      ],
      "execution_count": null,
      "outputs": [
        {
          "output_type": "stream",
          "name": "stdout",
          "text": [
            "GPU Available:  True\n"
          ]
        }
      ]
    },
    {
      "cell_type": "code",
      "metadata": {
        "colab": {
          "base_uri": "https://localhost:8080/"
        },
        "id": "0CIhYh8ezK4Q",
        "outputId": "38f7a921-7ec1-4dad-f3b3-a76c7722b762"
      },
      "source": [
        "print(tf.__version__)"
      ],
      "execution_count": null,
      "outputs": [
        {
          "output_type": "stream",
          "name": "stdout",
          "text": [
            "2.7.0\n"
          ]
        }
      ]
    },
    {
      "cell_type": "code",
      "metadata": {
        "colab": {
          "base_uri": "https://localhost:8080/"
        },
        "id": "G1GwfD-g1nFG",
        "outputId": "59ccb936-d467-41c1-8c1a-8dadf1803556"
      },
      "source": [
        "from tensorflow import keras\n",
        "\n",
        "print(tf.keras.__version__)"
      ],
      "execution_count": null,
      "outputs": [
        {
          "output_type": "stream",
          "name": "stdout",
          "text": [
            "2.7.0\n"
          ]
        }
      ]
    },
    {
      "cell_type": "code",
      "metadata": {
        "id": "O2Il1IVt2Oc1",
        "colab": {
          "base_uri": "https://localhost:8080/"
        },
        "outputId": "3a6a2b9a-3ade-49bb-aa45-62b97a55333f"
      },
      "source": [
        "help()\n"
      ],
      "execution_count": 1,
      "outputs": [
        {
          "output_type": "stream",
          "name": "stdout",
          "text": [
            "\n",
            "Welcome to Python 3.7's help utility!\n",
            "\n",
            "If this is your first time using Python, you should definitely check out\n",
            "the tutorial on the Internet at https://docs.python.org/3.7/tutorial/.\n",
            "\n",
            "Enter the name of any module, keyword, or topic to get help on writing\n",
            "Python programs and using Python modules.  To quit this help utility and\n",
            "return to the interpreter, just type \"quit\".\n",
            "\n",
            "To get a list of available modules, keywords, symbols, or topics, type\n",
            "\"modules\", \"keywords\", \"symbols\", or \"topics\".  Each module also comes\n",
            "with a one-line summary of what it does; to list the modules whose name\n",
            "or summary contain a given string such as \"spam\", type \"modules spam\".\n",
            "\n",
            "help> sum\n",
            "Help on built-in function sum in module builtins:\n",
            "\n",
            "sum(iterable, start=0, /)\n",
            "    Return the sum of a 'start' value (default: 0) plus an iterable of numbers\n",
            "    \n",
            "    When the iterable is empty, return the start value.\n",
            "    This function is intended specifically for use with numeric values and may\n",
            "    reject non-numeric types.\n",
            "\n",
            "\n",
            "You are now leaving help and returning to the Python interpreter.\n",
            "If you want to ask for help on a particular object directly from the\n",
            "interpreter, you can type \"help(object)\".  Executing \"help('string')\"\n",
            "has the same effect as typing a particular string at the help> prompt.\n"
          ]
        }
      ]
    },
    {
      "cell_type": "code",
      "metadata": {
        "colab": {
          "base_uri": "https://localhost:8080/"
        },
        "id": "2e02XpLCa0Iw",
        "outputId": "ae97a43c-78f6-4e50-fe73-389311a6e68f"
      },
      "source": [
        "dir(str)"
      ],
      "execution_count": 2,
      "outputs": [
        {
          "output_type": "execute_result",
          "data": {
            "text/plain": [
              "['__add__',\n",
              " '__class__',\n",
              " '__contains__',\n",
              " '__delattr__',\n",
              " '__dir__',\n",
              " '__doc__',\n",
              " '__eq__',\n",
              " '__format__',\n",
              " '__ge__',\n",
              " '__getattribute__',\n",
              " '__getitem__',\n",
              " '__getnewargs__',\n",
              " '__gt__',\n",
              " '__hash__',\n",
              " '__init__',\n",
              " '__init_subclass__',\n",
              " '__iter__',\n",
              " '__le__',\n",
              " '__len__',\n",
              " '__lt__',\n",
              " '__mod__',\n",
              " '__mul__',\n",
              " '__ne__',\n",
              " '__new__',\n",
              " '__reduce__',\n",
              " '__reduce_ex__',\n",
              " '__repr__',\n",
              " '__rmod__',\n",
              " '__rmul__',\n",
              " '__setattr__',\n",
              " '__sizeof__',\n",
              " '__str__',\n",
              " '__subclasshook__',\n",
              " 'capitalize',\n",
              " 'casefold',\n",
              " 'center',\n",
              " 'count',\n",
              " 'encode',\n",
              " 'endswith',\n",
              " 'expandtabs',\n",
              " 'find',\n",
              " 'format',\n",
              " 'format_map',\n",
              " 'index',\n",
              " 'isalnum',\n",
              " 'isalpha',\n",
              " 'isascii',\n",
              " 'isdecimal',\n",
              " 'isdigit',\n",
              " 'isidentifier',\n",
              " 'islower',\n",
              " 'isnumeric',\n",
              " 'isprintable',\n",
              " 'isspace',\n",
              " 'istitle',\n",
              " 'isupper',\n",
              " 'join',\n",
              " 'ljust',\n",
              " 'lower',\n",
              " 'lstrip',\n",
              " 'maketrans',\n",
              " 'partition',\n",
              " 'replace',\n",
              " 'rfind',\n",
              " 'rindex',\n",
              " 'rjust',\n",
              " 'rpartition',\n",
              " 'rsplit',\n",
              " 'rstrip',\n",
              " 'split',\n",
              " 'splitlines',\n",
              " 'startswith',\n",
              " 'strip',\n",
              " 'swapcase',\n",
              " 'title',\n",
              " 'translate',\n",
              " 'upper',\n",
              " 'zfill']"
            ]
          },
          "metadata": {},
          "execution_count": 2
        }
      ]
    },
    {
      "cell_type": "code",
      "metadata": {
        "colab": {
          "base_uri": "https://localhost:8080/"
        },
        "id": "v66FK7oTa4mH",
        "outputId": "98238dda-934c-48f9-fe53-b1baadc41f96"
      },
      "source": [
        "dir(sum)"
      ],
      "execution_count": 3,
      "outputs": [
        {
          "output_type": "execute_result",
          "data": {
            "text/plain": [
              "['__call__',\n",
              " '__class__',\n",
              " '__delattr__',\n",
              " '__dir__',\n",
              " '__doc__',\n",
              " '__eq__',\n",
              " '__format__',\n",
              " '__ge__',\n",
              " '__getattribute__',\n",
              " '__gt__',\n",
              " '__hash__',\n",
              " '__init__',\n",
              " '__init_subclass__',\n",
              " '__le__',\n",
              " '__lt__',\n",
              " '__module__',\n",
              " '__name__',\n",
              " '__ne__',\n",
              " '__new__',\n",
              " '__qualname__',\n",
              " '__reduce__',\n",
              " '__reduce_ex__',\n",
              " '__repr__',\n",
              " '__self__',\n",
              " '__setattr__',\n",
              " '__sizeof__',\n",
              " '__str__',\n",
              " '__subclasshook__',\n",
              " '__text_signature__']"
            ]
          },
          "metadata": {},
          "execution_count": 3
        }
      ]
    },
    {
      "cell_type": "code",
      "metadata": {
        "colab": {
          "base_uri": "https://localhost:8080/"
        },
        "id": "M47MXRX2bNJ1",
        "outputId": "e319b85a-656a-429e-a7a4-2f29e17bb40a"
      },
      "source": [
        "from random import randint\n",
        "randomint = randint(1, 100)\n",
        "print(randomint)"
      ],
      "execution_count": 5,
      "outputs": [
        {
          "output_type": "stream",
          "name": "stdout",
          "text": [
            "75\n"
          ]
        }
      ]
    },
    {
      "cell_type": "code",
      "metadata": {
        "colab": {
          "base_uri": "https://localhost:8080/"
        },
        "id": "GB_pd0_abYwr",
        "outputId": "d4988896-9cd3-4044-ade2-a5df698c4e75"
      },
      "source": [
        "import random\n",
        "randomint = random.randint(1, 100)\n",
        "print(randomint)"
      ],
      "execution_count": 6,
      "outputs": [
        {
          "output_type": "stream",
          "name": "stdout",
          "text": [
            "16\n"
          ]
        }
      ]
    },
    {
      "cell_type": "code",
      "metadata": {
        "colab": {
          "base_uri": "https://localhost:8080/"
        },
        "id": "uJ7kNqkxb1JL",
        "outputId": "64bdbc4b-4f33-4431-88b4-5f15f1691242"
      },
      "source": [
        "IntegerVar = 10\n",
        "IntegerVar += 10\n",
        "print(IntegerVar)"
      ],
      "execution_count": 8,
      "outputs": [
        {
          "output_type": "stream",
          "name": "stdout",
          "text": [
            "20\n"
          ]
        }
      ]
    },
    {
      "cell_type": "code",
      "metadata": {
        "colab": {
          "base_uri": "https://localhost:8080/"
        },
        "id": "ody1KjgQcQxs",
        "outputId": "94dca6d1-b574-410e-98ba-eb0aa8d27f1b"
      },
      "source": [
        "StringVar = \"Deep\"\n",
        "StringVar += \" Learning\"\n",
        "print(StringVar)"
      ],
      "execution_count": 11,
      "outputs": [
        {
          "output_type": "stream",
          "name": "stdout",
          "text": [
            "Deep Learning\n"
          ]
        }
      ]
    },
    {
      "cell_type": "code",
      "metadata": {
        "id": "xV-aZfqmcZrS"
      },
      "source": [
        "IntegerVar, StringVar = StringVar, IntegerVar"
      ],
      "execution_count": 12,
      "outputs": []
    },
    {
      "cell_type": "code",
      "metadata": {
        "colab": {
          "base_uri": "https://localhost:8080/"
        },
        "id": "5VQFfUdbclTq",
        "outputId": "38243aea-3fbd-4af3-e5ff-3fb7f819b1bc"
      },
      "source": [
        "print(IntegerVar)"
      ],
      "execution_count": 13,
      "outputs": [
        {
          "output_type": "stream",
          "name": "stdout",
          "text": [
            "Deep Learning\n"
          ]
        }
      ]
    },
    {
      "cell_type": "code",
      "metadata": {
        "colab": {
          "base_uri": "https://localhost:8080/"
        },
        "id": "ZrJ9j0vtcnbs",
        "outputId": "46b1593e-d8ca-460b-b473-a113a1809cd9"
      },
      "source": [
        "print(StringVar)"
      ],
      "execution_count": 14,
      "outputs": [
        {
          "output_type": "stream",
          "name": "stdout",
          "text": [
            "20\n"
          ]
        }
      ]
    },
    {
      "cell_type": "code",
      "metadata": {
        "colab": {
          "base_uri": "https://localhost:8080/"
        },
        "id": "lY4I0X6Pcqu0",
        "outputId": "3d3f099c-23f4-43b1-ec45-a11ebd95780d"
      },
      "source": [
        "a = 20\n",
        "if a >=22:\n",
        "  print(\"Paris\")\n",
        "elif a<=21:\n",
        "  print(\"Barcelona\")\n"
      ],
      "execution_count": 15,
      "outputs": [
        {
          "output_type": "stream",
          "name": "stdout",
          "text": [
            "Barcelona\n"
          ]
        }
      ]
    },
    {
      "cell_type": "code",
      "metadata": {
        "colab": {
          "base_uri": "https://localhost:8080/"
        },
        "id": "QLeKi_FTeH24",
        "outputId": "6a487297-6d7e-4ad8-f019-e8bcd1ade08f"
      },
      "source": [
        "b=1\n",
        "print(\"Paris\" if b >= 92 else \"Barcelona\")"
      ],
      "execution_count": 16,
      "outputs": [
        {
          "output_type": "stream",
          "name": "stdout",
          "text": [
            "Barcelona\n"
          ]
        }
      ]
    },
    {
      "cell_type": "code",
      "metadata": {
        "colab": {
          "base_uri": "https://localhost:8080/"
        },
        "id": "BGbzsR9VePjg",
        "outputId": "d3510996-f4b2-4484-e273-6201cfa66ccc"
      },
      "source": [
        "def mi_universidad(universidad = \"UPC\"):\n",
        "  y = \"Mi universidad es la \" + universidad\n",
        "  return (y)\n",
        "\n",
        "print(mi_universidad(\"UPM\"))\n",
        "print(mi_universidad(universidad = \"UPV\")) #Buena Practica usar el nombre de la\n",
        "                                            #variable\n",
        "print(mi_universidad())\n"
      ],
      "execution_count": 17,
      "outputs": [
        {
          "output_type": "stream",
          "name": "stdout",
          "text": [
            "Mi universidad es la UPM\n",
            "Mi universidad es la UPV\n",
            "Mi universidad es la UPC\n"
          ]
        }
      ]
    },
    {
      "cell_type": "code",
      "metadata": {
        "colab": {
          "base_uri": "https://localhost:8080/"
        },
        "id": "vTYBpngdfAOS",
        "outputId": "20d14b30-4b94-4c4d-c3d8-cc49b011aa8c"
      },
      "source": [
        "def foo():\n",
        "  a, b = 4, 5\n",
        "  return a, b\n",
        "foo()"
      ],
      "execution_count": 18,
      "outputs": [
        {
          "output_type": "execute_result",
          "data": {
            "text/plain": [
              "(4, 5)"
            ]
          },
          "metadata": {},
          "execution_count": 18
        }
      ]
    },
    {
      "cell_type": "code",
      "metadata": {
        "colab": {
          "base_uri": "https://localhost:8080/"
        },
        "id": "MxX4rupwfYyl",
        "outputId": "34e9fcdb-a2c7-4dd6-e032-df0336c63165"
      },
      "source": [
        "fibonacci = (lambda x:1 if x <= 2 else\n",
        "             fibonacci(x-1) + fibonacci(x-2))\n",
        "\n",
        "fibonacci(10)"
      ],
      "execution_count": 19,
      "outputs": [
        {
          "output_type": "execute_result",
          "data": {
            "text/plain": [
              "55"
            ]
          },
          "metadata": {},
          "execution_count": 19
        }
      ]
    },
    {
      "cell_type": "code",
      "metadata": {
        "id": "XZYodN7Qf1xw"
      },
      "source": [
        "class Calculadora(object):\n",
        "  \"\"\"Clase de una calculadora\"\"\"\n",
        "\n",
        "  def __init__(self):\n",
        "    \"\"\"Inicializa la clase Calculadora\"\"\"\n",
        "    self.valor = 0\n",
        "  \n",
        "  def suma(self, n):\n",
        "    \"\"\"Suma un numero n al valor\"\"\"\n",
        "    self.valor += n\n",
        "\n",
        "  def getValor(self):\n",
        "    \"\"\"Obtiene el valor\"\"\"\n",
        "    return self.valor"
      ],
      "execution_count": 2,
      "outputs": []
    },
    {
      "cell_type": "code",
      "metadata": {
        "colab": {
          "base_uri": "https://localhost:8080/"
        },
        "id": "PsWbEtuNp8Pl",
        "outputId": "90555c3d-2b80-4f43-9235-6513a8b6f180"
      },
      "source": [
        "calc = Calculadora()\n",
        "calc.suma(2)\n",
        "print(calc.getValor())\n"
      ],
      "execution_count": 4,
      "outputs": [
        {
          "output_type": "stream",
          "name": "stdout",
          "text": [
            "2\n"
          ]
        }
      ]
    },
    {
      "cell_type": "code",
      "metadata": {
        "colab": {
          "base_uri": "https://localhost:8080/"
        },
        "id": "SAEL-aIPq7o6",
        "outputId": "af8c6dc2-5ec6-481c-b02f-eae9f3125095"
      },
      "source": [
        "calc.suma(2)\n",
        "print(calc.getValor())"
      ],
      "execution_count": 5,
      "outputs": [
        {
          "output_type": "stream",
          "name": "stdout",
          "text": [
            "4\n"
          ]
        }
      ]
    },
    {
      "cell_type": "code",
      "metadata": {
        "colab": {
          "base_uri": "https://localhost:8080/"
        },
        "id": "wq_dqUQPrDVC",
        "outputId": "96dff760-16a4-416b-ca0f-80a2815ffc97"
      },
      "source": [
        "vec = [1, 2, 3]\n",
        "it = iter(vec)\n",
        "\n",
        "next(it)"
      ],
      "execution_count": 6,
      "outputs": [
        {
          "output_type": "execute_result",
          "data": {
            "text/plain": [
              "1"
            ]
          },
          "metadata": {},
          "execution_count": 6
        }
      ]
    },
    {
      "cell_type": "code",
      "metadata": {
        "colab": {
          "base_uri": "https://localhost:8080/"
        },
        "id": "hkEzd4NfrPHh",
        "outputId": "17462fce-0e23-4148-e81d-185c040599be"
      },
      "source": [
        "next(it)"
      ],
      "execution_count": 8,
      "outputs": [
        {
          "output_type": "execute_result",
          "data": {
            "text/plain": [
              "3"
            ]
          },
          "metadata": {},
          "execution_count": 8
        }
      ]
    },
    {
      "cell_type": "code",
      "metadata": {
        "colab": {
          "base_uri": "https://localhost:8080/"
        },
        "id": "-ir_pLNArRbz",
        "outputId": "f1b280bf-eff9-4019-91f3-1c8e9c0520f5"
      },
      "source": [
        "type(vec)"
      ],
      "execution_count": 9,
      "outputs": [
        {
          "output_type": "execute_result",
          "data": {
            "text/plain": [
              "list"
            ]
          },
          "metadata": {},
          "execution_count": 9
        }
      ]
    },
    {
      "cell_type": "code",
      "metadata": {
        "colab": {
          "base_uri": "https://localhost:8080/"
        },
        "id": "Nm243vRMrTyY",
        "outputId": "403d58f1-53d7-48ed-edcb-e2e5d0287c9c"
      },
      "source": [
        "type(it)"
      ],
      "execution_count": 10,
      "outputs": [
        {
          "output_type": "execute_result",
          "data": {
            "text/plain": [
              "list_iterator"
            ]
          },
          "metadata": {},
          "execution_count": 10
        }
      ]
    },
    {
      "cell_type": "code",
      "metadata": {
        "id": "SknKqEuRrVVh"
      },
      "source": [
        "#Decoradores"
      ],
      "execution_count": 11,
      "outputs": []
    },
    {
      "cell_type": "code",
      "metadata": {
        "colab": {
          "base_uri": "https://localhost:8080/"
        },
        "id": "cqHAr1Cuwf4a",
        "outputId": "49fe30d8-c403-4a98-e2aa-58af25851833"
      },
      "source": [
        "def voy_a_imprimir_Hola():\n",
        "  print(\"Hola\")\n",
        "\n",
        "voy_a_imprimir_Hola()"
      ],
      "execution_count": 12,
      "outputs": [
        {
          "output_type": "stream",
          "name": "stdout",
          "text": [
            "Hola\n"
          ]
        }
      ]
    },
    {
      "cell_type": "code",
      "metadata": {
        "colab": {
          "base_uri": "https://localhost:8080/"
        },
        "id": "yXbq2833wnuU",
        "outputId": "72465d1e-ee84-4ab1-f4c0-e9dbae276dae"
      },
      "source": [
        "def voy_a_imprimir_Hola():\n",
        "  print(\"Hola\")\n",
        "\n",
        "def my_decorator(func):\n",
        "  def wrapper():\n",
        "    print(\"[Aviso: voy a decir algo]\")\n",
        "    func()\n",
        "    print(\"[Aviso: ya he dicho algo]\")\n",
        "  return wrapper\n",
        "\n",
        "voy_a_imprimir_Hola = my_decorator(voy_a_imprimir_Hola)\n",
        "\n",
        "voy_a_imprimir_Hola()"
      ],
      "execution_count": 13,
      "outputs": [
        {
          "output_type": "stream",
          "name": "stdout",
          "text": [
            "[Aviso: voy a decir algo]\n",
            "Hola\n",
            "[Aviso: ya he dicho algo]\n"
          ]
        }
      ]
    },
    {
      "cell_type": "code",
      "metadata": {
        "id": "5ZTYB-xzxFof"
      },
      "source": [
        "voy_a_imprimir_Hola = my_decorator(voy_a_imprimir_Hola)"
      ],
      "execution_count": 14,
      "outputs": []
    },
    {
      "cell_type": "code",
      "metadata": {
        "id": "SjY2pzfoxUUX"
      },
      "source": [
        "@my_decorator\n",
        "def voy_a_imprimir_Hola():\n",
        "  print(\"Hola\")"
      ],
      "execution_count": 15,
      "outputs": []
    },
    {
      "cell_type": "code",
      "metadata": {
        "colab": {
          "base_uri": "https://localhost:8080/"
        },
        "id": "nJ9BwrtXxbMR",
        "outputId": "798cee79-7d5b-4998-ee7f-882ee68bf7bb"
      },
      "source": [
        "voy_a_imprimir_Hola()"
      ],
      "execution_count": 16,
      "outputs": [
        {
          "output_type": "stream",
          "name": "stdout",
          "text": [
            "[Aviso: voy a decir algo]\n",
            "Hola\n",
            "[Aviso: ya he dicho algo]\n"
          ]
        }
      ]
    },
    {
      "cell_type": "code",
      "metadata": {
        "colab": {
          "base_uri": "https://localhost:8080/"
        },
        "id": "xqexckUdxcne",
        "outputId": "8d8d83bc-b1de-4ad5-d89c-039be0dd6a5c"
      },
      "source": [
        "import numpy as np\n",
        "\n",
        "x = np.array(8)\n",
        "print(\"x: \", x)\n",
        "print(\"x ndim: \", x.ndim)\n",
        "print(\"x shape: \", x.shape)\n",
        "print(\"x size: \", x.size)\n",
        "print(\"x dtype: \", x.dtype)\n"
      ],
      "execution_count": 18,
      "outputs": [
        {
          "output_type": "stream",
          "name": "stdout",
          "text": [
            "x:  8\n",
            "x ndim:  0\n",
            "x shape:  ()\n",
            "x size:  1\n",
            "x dtype:  int64\n"
          ]
        }
      ]
    },
    {
      "cell_type": "code",
      "metadata": {
        "colab": {
          "base_uri": "https://localhost:8080/"
        },
        "id": "nCdp050D3fW4",
        "outputId": "4c4d9428-0a86-4827-f88c-77378002cdf6"
      },
      "source": [
        "x = np.array([2.3, 4.2, 3.3, 1.8])\n",
        "print(\"x: \", x)\n",
        "print(\"x ndim: \", x.ndim)\n",
        "print(\"x shape: \", x.shape)\n",
        "print(\"x size: \", x.size)\n",
        "print(\"x dtype: \", x.dtype) # notice the float datatype\n"
      ],
      "execution_count": 19,
      "outputs": [
        {
          "output_type": "stream",
          "name": "stdout",
          "text": [
            "x:  [2.3 4.2 3.3 1.8]\n",
            "x ndim:  1\n",
            "x shape:  (4,)\n",
            "x size:  4\n",
            "x dtype:  float64\n"
          ]
        }
      ]
    },
    {
      "cell_type": "code",
      "metadata": {
        "colab": {
          "base_uri": "https://localhost:8080/"
        },
        "id": "COMDQ7nN3qt4",
        "outputId": "94626853-f0c9-4e0b-a75a-0f296517a755"
      },
      "source": [
        "x = np.array([[1,2,3], [4,5,6], [7,8,9]])\n",
        "print(\"x:\\n\", x)\n",
        "print(\"x ndim: \", x.ndim)\n",
        "print(\"x shape: \", x.shape)\n",
        "print(\"x size: \", x.size)\n",
        "print(\"x dtype: \", x.dtype)\n"
      ],
      "execution_count": 23,
      "outputs": [
        {
          "output_type": "stream",
          "name": "stdout",
          "text": [
            "x:\n",
            " [[1 2 3]\n",
            " [4 5 6]\n",
            " [7 8 9]]\n",
            "x ndim:  2\n",
            "x shape:  (3, 3)\n",
            "x size:  9\n",
            "x dtype:  int64\n"
          ]
        }
      ]
    },
    {
      "cell_type": "code",
      "metadata": {
        "colab": {
          "base_uri": "https://localhost:8080/"
        },
        "id": "-N2cLmhj4Eep",
        "outputId": "21c0a3b7-02f4-4f7c-b9ee-e4517dda20f8"
      },
      "source": [
        "x = np.array([[[1,2], [3,4]], [[5,6], [7,8]]])\n",
        "print(\"x:\\n\", x)\n",
        "print(\"x ndim: \", x.ndim)\n",
        "print(\"x shape: \", x.shape)\n",
        "print(\"x size: \", x.size)\n",
        "print(\"x dtype: \", x.dtype)\n"
      ],
      "execution_count": 24,
      "outputs": [
        {
          "output_type": "stream",
          "name": "stdout",
          "text": [
            "x:\n",
            " [[[1 2]\n",
            "  [3 4]]\n",
            "\n",
            " [[5 6]\n",
            "  [7 8]]]\n",
            "x ndim:  3\n",
            "x shape:  (2, 2, 2)\n",
            "x size:  8\n",
            "x dtype:  int64\n"
          ]
        }
      ]
    },
    {
      "cell_type": "code",
      "metadata": {
        "colab": {
          "base_uri": "https://localhost:8080/"
        },
        "id": "DVEia2W44rWE",
        "outputId": "60567a42-6fdd-4fff-a490-86230494d099"
      },
      "source": [
        "print(\"np.zeros((3,3)):\\n\", np.zeros((3,3)))\n",
        "print(\"np.ones((3,3)):\\n\", np.ones((3,3)))\n",
        "print(\"np.eye((3)): (identity matrix)\\n\", np.eye((3)))\n",
        "print(\"np.random.random((3,3)):\\n\", np.random.random((3,3)))"
      ],
      "execution_count": 25,
      "outputs": [
        {
          "output_type": "stream",
          "name": "stdout",
          "text": [
            "np.zeros((3,3)):\n",
            " [[0. 0. 0.]\n",
            " [0. 0. 0.]\n",
            " [0. 0. 0.]]\n",
            "np.ones((3,3)):\n",
            " [[1. 1. 1.]\n",
            " [1. 1. 1.]\n",
            " [1. 1. 1.]]\n",
            "np.eye((3)): (identity matrix)\n",
            " [[1. 0. 0.]\n",
            " [0. 1. 0.]\n",
            " [0. 0. 1.]]\n",
            "np.random.random((3,3)):\n",
            " [[0.75353231 0.49534734 0.67656421]\n",
            " [0.33307333 0.91839135 0.18775961]\n",
            " [0.70187752 0.90397234 0.49264983]]\n"
          ]
        }
      ]
    },
    {
      "cell_type": "code",
      "metadata": {
        "colab": {
          "base_uri": "https://localhost:8080/"
        },
        "id": "xMRwuy_Z7VXK",
        "outputId": "52dd47f8-e327-4700-bc86-4d3afb9750e1"
      },
      "source": [
        "import numpy as np\n",
        "\n",
        "x = np.array([[1,2,3,4], [5,6,7,8], [9,10,11,12]])\n",
        "print(x)\n",
        "print(\"x column 1: \", x[:, 1])\n",
        "print(\"x row 0: \", x[0, :])\n",
        "print(\"x rows 0,1 & cols 1,2: \\n\", x[0:2, 1:3])"
      ],
      "execution_count": 4,
      "outputs": [
        {
          "output_type": "stream",
          "name": "stdout",
          "text": [
            "[[ 1  2  3  4]\n",
            " [ 5  6  7  8]\n",
            " [ 9 10 11 12]]\n",
            "x column 1:  [ 2  6 10]\n",
            "x row 0:  [1 2 3 4]\n",
            "x rows 0,1 & cols 1,2: \n",
            " [[2 3]\n",
            " [6 7]]\n"
          ]
        }
      ]
    },
    {
      "cell_type": "code",
      "metadata": {
        "colab": {
          "base_uri": "https://localhost:8080/"
        },
        "id": "7L-5OX5u12wI",
        "outputId": "c9db892e-44c7-4598-94ac-9e7dd4b065c2"
      },
      "source": [
        "a = np.array([[1,2,3], [4,5,6]], dtype=np.int32)\n",
        "b = np.array([[7,8], [9,10], [11,12]], dtype=np.int32)\n",
        "c = a.dot(b)\n",
        "print (f\"{a.shape} * {b.shape} = {c.shape}\")\n",
        "print(c)"
      ],
      "execution_count": 6,
      "outputs": [
        {
          "output_type": "stream",
          "name": "stdout",
          "text": [
            "(2, 3) * (3, 2) = (2, 2)\n",
            "[[ 58  64]\n",
            " [139 154]]\n"
          ]
        }
      ]
    },
    {
      "cell_type": "code",
      "metadata": {
        "colab": {
          "base_uri": "https://localhost:8080/"
        },
        "id": "ONCY8PtT6HNZ",
        "outputId": "f24d6893-62d1-494e-f51b-63337617513b"
      },
      "source": [
        "x = np.array([[1,2,3,4,5,6]])\n",
        "print(x)\n",
        "print(\"x.shape: \", x.shape)\n",
        "y = np.reshape(x, (2,3))\n",
        "print(\"y: \\n\", y)\n",
        "print(\"y.shape: \", y.shape)\n",
        "z = np.reshape(x, (2, -1))\n",
        "print(\"z: \\n\", z)\n",
        "print(\"z.shape: \", z.shape)"
      ],
      "execution_count": 7,
      "outputs": [
        {
          "output_type": "stream",
          "name": "stdout",
          "text": [
            "[[1 2 3 4 5 6]]\n",
            "x.shape:  (1, 6)\n",
            "y: \n",
            " [[1 2 3]\n",
            " [4 5 6]]\n",
            "y.shape:  (2, 3)\n",
            "z: \n",
            " [[1 2 3]\n",
            " [4 5 6]]\n",
            "z.shape:  (2, 3)\n"
          ]
        }
      ]
    },
    {
      "cell_type": "code",
      "metadata": {
        "colab": {
          "base_uri": "https://localhost:8080/"
        },
        "id": "6bEf4zsV7f2l",
        "outputId": "f88d3bde-2cf8-49eb-d964-950435438503"
      },
      "source": [
        "x = np.array([[1,2,3], [4,5,6]])\n",
        "print(\"x: \\n\", x)\n",
        "print(\"x.shape: \", x.shape)\n",
        "y = np.expand_dims(x, 1)\n",
        "print(\"y: \\n\", y)\n",
        "print(\"y.shape: \", y.shape)\n"
      ],
      "execution_count": 8,
      "outputs": [
        {
          "output_type": "stream",
          "name": "stdout",
          "text": [
            "x: \n",
            " [[1 2 3]\n",
            " [4 5 6]]\n",
            "x.shape:  (2, 3)\n",
            "y: \n",
            " [[[1 2 3]]\n",
            "\n",
            " [[4 5 6]]]\n",
            "y.shape:  (2, 1, 3)\n"
          ]
        }
      ]
    },
    {
      "cell_type": "code",
      "metadata": {
        "colab": {
          "base_uri": "https://localhost:8080/"
        },
        "id": "RSHGcCqF8J8J",
        "outputId": "fe2fe873-10cd-4a2d-8fc2-6ad1db7f80a7"
      },
      "source": [
        "x = np.array([[[1,2,3]], [[4,5,6]]])\n",
        "print(\"x: \\n\", x)\n",
        "print(\"x.shape: \", x.shape)\n",
        "y = np.squeeze(x, 1) #squeeze dim 1\n",
        "print(\"y: \\n\", y)\n",
        "print(\"y.shape: \", y.shape)"
      ],
      "execution_count": 9,
      "outputs": [
        {
          "output_type": "stream",
          "name": "stdout",
          "text": [
            "x: \n",
            " [[[1 2 3]]\n",
            "\n",
            " [[4 5 6]]]\n",
            "x.shape:  (2, 1, 3)\n",
            "y: \n",
            " [[1 2 3]\n",
            " [4 5 6]]\n",
            "y.shape:  (2, 3)\n"
          ]
        }
      ]
    },
    {
      "cell_type": "code",
      "metadata": {
        "colab": {
          "base_uri": "https://localhost:8080/"
        },
        "id": "G4rYAj2L89bW",
        "outputId": "2d6bca43-196b-4e5f-8a2b-0f0e648a5aac"
      },
      "source": [
        "x = np.array([[1,2,3,4,5,6]])\n",
        "print(x)\n",
        "\n",
        "print(np.argmax(x))\n",
        "print(np.max(x))"
      ],
      "execution_count": 11,
      "outputs": [
        {
          "output_type": "stream",
          "name": "stdout",
          "text": [
            "[[1 2 3 4 5 6]]\n",
            "5\n",
            "6\n"
          ]
        }
      ]
    },
    {
      "cell_type": "code",
      "metadata": {
        "colab": {
          "base_uri": "https://localhost:8080/"
        },
        "id": "dmzVQJd99oSs",
        "outputId": "1cb41e43-907f-4c7c-aaf1-756297ec2e4d"
      },
      "source": [
        "x = np.array([[1,2,3,4], [5,6,7,8], [9,10,11,12]])\n",
        "print(x)\n",
        "print(np.argmax(x))\n",
        "print(np.max(x))"
      ],
      "execution_count": 12,
      "outputs": [
        {
          "output_type": "stream",
          "name": "stdout",
          "text": [
            "[[ 1  2  3  4]\n",
            " [ 5  6  7  8]\n",
            " [ 9 10 11 12]]\n",
            "11\n",
            "12\n"
          ]
        }
      ]
    },
    {
      "cell_type": "code",
      "metadata": {
        "colab": {
          "base_uri": "https://localhost:8080/"
        },
        "id": "KHxv4RVn974B",
        "outputId": "c3bb7cc4-fc1f-4c53-907a-9d69afb77887"
      },
      "source": [
        "print(np.argmax(x, axis=0))\n",
        "print(np.max(x, axis=0))\n",
        "\n",
        "print(np.argmax(x, axis=1))\n",
        "print(np.max(x, axis=1))"
      ],
      "execution_count": 13,
      "outputs": [
        {
          "output_type": "stream",
          "name": "stdout",
          "text": [
            "[2 2 2 2]\n",
            "[ 9 10 11 12]\n",
            "[3 3 3]\n",
            "[ 4  8 12]\n"
          ]
        }
      ]
    },
    {
      "cell_type": "code",
      "metadata": {
        "id": "bPRL6Rs2-NsJ"
      },
      "source": [
        ""
      ],
      "execution_count": null,
      "outputs": []
    }
  ]
}